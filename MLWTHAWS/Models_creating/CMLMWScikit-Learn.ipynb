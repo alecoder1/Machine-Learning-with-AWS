{
 "cells": [
  {
   "cell_type": "markdown",
   "id": "f9721957-af66-4b7a-8721-a83bb2117464",
   "metadata": {},
   "source": [
    "## Creating Machine Learning Models with Scikit-learn\n",
    "\n",
    "### Introducing Scikit-learn\n",
    "- Python library that provides ready-to-use implementations of several pupolar machine learning algorithms such as linear regression, logistic regression,support vector machines, clustering, and random forests.\n",
    "- Provides tools to split datasets into test-train subsets, implement k-fold cross validation, evaluate model performance using popular metrics, and detect outliers, and include algorithms to aid with feature selection.\n",
    "- Scikit-learn builds upon several other libraries such as NumPy, Pandas, ad Matplotlib, and at its core is focused in model building and - evaluation tasks, and not tasks such as data loading and visualization.\n",
    "- Scikit-learn is the reason for the rise in the number of real-world applications of machine learning.\n",
    "\n",
    "### Creating a Training and Test Dataset\n",
    "- Building a machine learning model involves creating a computer program that can draw inferences from the features during the training phase and then testing the quality of the model by making predictions.\n",
    "- Common practice: set aside some of the labelled training data before the model-building phase and testing the model using this data that the model has not previously encountered.\n",
    "- The performance of the model on this unseen data is used to determine if the model is good enough, or if improvements are needed.\n",
    "- The benefit of having a separate training and testing set  is that it ensures the model has not memorized the training examples(a phenomena known as overfitting).\n",
    "- In the case of supervised learning, both the training and testing sets are labeled and the original dataset must evenly be shuffled before the subsets are created.\n",
    "\n",
    "- Scikit-learn provides a function called train_test_split() in the model_selection submodule that can be used to split a Pandas Dataframe into two dataframes, one for model building and the other for model evaluation.\n",
    "\n",
    "#### The train_test_split(parameters:default values)\n",
    "- test_size: value can be an integer or floating-point number.\n",
    "  - When the value is an integer, it specifies the number of elements that should be retained for the test set.\n",
    "  - When the value is a floating-point number, it specifies the percentage of the original dataset to include in the test set.\n",
    "- random_state: This is an integer value used to seed the random-number generator used to shuffle the samples.\n",
    "\n",
    "#### The Output of the train_test_split(list of four arrays)\n",
    "- The first item of the list is an array that contains the training set features.\n",
    "- The second item of the list is an array that contains the test set features.\n",
    "- The third item of the list is an array that contains the training set labels(target variable).\n",
    "- The fourth item of the list is an array that contains the test set labels.\n",
    "\n",
    "### Using the function to split the Iris flowers dataset into training and test set.\n",
    "- 25% is reserved for the test set"
   ]
  },
  {
   "cell_type": "code",
   "execution_count": 5,
   "id": "7f76323c-9393-4c98-9b8b-f04463072c9c",
   "metadata": {},
   "outputs": [],
   "source": [
    "import numpy as np\n",
    "import pandas as pd\n",
    "\n",
    "from sklearn.model_selection import train_test_split\n",
    "\n",
    "# load iris dataset\n",
    "\n",
    "from sklearn.datasets import load_iris\n",
    "iris_dataset = load_iris()\n",
    "df_iris_features = pd.DataFrame(data= iris_dataset.data, \n",
    "                               columns=iris_dataset.feature_names)\n",
    "\n",
    "df_iris_target = pd.DataFrame(data= iris_dataset.target,\n",
    "                             columns=['class'])\n",
    "\n",
    "# split the iris dataset\n",
    "iris_split = train_test_split(df_iris_features, df_iris_target, test_size=0.25, random_state=17)\n",
    "\n",
    "df_iris_features_train = iris_split[0]\n",
    "df_iris_features_test = iris_split[1]\n",
    "df_iris_target_train = iris_split[2]\n",
    "df_iris_target_test = iris_split[3]"
   ]
  },
  {
   "cell_type": "code",
   "execution_count": 15,
   "id": "def56e38-4399-43e9-af7f-d2ce83af6428",
   "metadata": {},
   "outputs": [
    {
     "data": {
      "text/plain": [
       "(112, 4)"
      ]
     },
     "execution_count": 15,
     "metadata": {},
     "output_type": "execute_result"
    }
   ],
   "source": [
    "iris_split = train_test_split(df_iris_features, df_iris_target, test_size=0.25, random_state=17)\n",
    "iris_split[0].shape"
   ]
  },
  {
   "cell_type": "code",
   "execution_count": 17,
   "id": "194541b8-e82e-4dc8-ab47-78575dfc6a55",
   "metadata": {},
   "outputs": [
    {
     "data": {
      "text/plain": [
       "(38, 4)"
      ]
     },
     "execution_count": 17,
     "metadata": {},
     "output_type": "execute_result"
    }
   ],
   "source": [
    "iris_split[1].shape"
   ]
  },
  {
   "cell_type": "code",
   "execution_count": 19,
   "id": "f9c0d7fc-a159-4baa-8401-9c0f83b03d5b",
   "metadata": {},
   "outputs": [
    {
     "data": {
      "text/plain": [
       "(112, 1)"
      ]
     },
     "execution_count": 19,
     "metadata": {},
     "output_type": "execute_result"
    }
   ],
   "source": [
    "iris_split[2].shape"
   ]
  },
  {
   "cell_type": "code",
   "execution_count": 25,
   "id": "8da23b6a-bc12-4f45-bb9b-fd631a59ba4b",
   "metadata": {},
   "outputs": [
    {
     "data": {
      "text/plain": [
       "(38, 1)"
      ]
     },
     "execution_count": 25,
     "metadata": {},
     "output_type": "execute_result"
    }
   ],
   "source": [
    "iris_split[3].shape"
   ]
  },
  {
   "cell_type": "code",
   "execution_count": null,
   "id": "c0e5c794-a384-4c86-ac45-da1eaa6437bc",
   "metadata": {},
   "outputs": [],
   "source": []
  },
  {
   "cell_type": "markdown",
   "id": "af6acc32-3503-4869-81a1-8e3a0048776f",
   "metadata": {},
   "source": [
    "# inspecting the size of the training and test dataset\n",
    "\n",
    "df_iris_features.shape, df_iris_target.shape"
   ]
  },
  {
   "cell_type": "code",
   "execution_count": 28,
   "id": "5e148b13-787a-42dd-91ad-1c7b1150e539",
   "metadata": {},
   "outputs": [
    {
     "data": {
      "text/plain": [
       "((112, 4), (112, 1))"
      ]
     },
     "execution_count": 28,
     "metadata": {},
     "output_type": "execute_result"
    }
   ],
   "source": [
    "df_iris_features_train.shape, df_iris_target_train.shape"
   ]
  },
  {
   "cell_type": "code",
   "execution_count": 30,
   "id": "b83b7e74-dfb3-4fd0-a80f-d8577e48783b",
   "metadata": {},
   "outputs": [
    {
     "data": {
      "text/plain": [
       "((38, 4), (38, 1))"
      ]
     },
     "execution_count": 30,
     "metadata": {},
     "output_type": "execute_result"
    }
   ],
   "source": [
    "df_iris_features_test.shape, df_iris_target_test.shape"
   ]
  },
  {
   "cell_type": "code",
   "execution_count": 32,
   "id": "2be26e46-8021-4763-afaf-1a1e17053fd5",
   "metadata": {},
   "outputs": [
    {
     "data": {
      "text/html": [
       "<div>\n",
       "<style scoped>\n",
       "    .dataframe tbody tr th:only-of-type {\n",
       "        vertical-align: middle;\n",
       "    }\n",
       "\n",
       "    .dataframe tbody tr th {\n",
       "        vertical-align: top;\n",
       "    }\n",
       "\n",
       "    .dataframe thead th {\n",
       "        text-align: right;\n",
       "    }\n",
       "</style>\n",
       "<table border=\"1\" class=\"dataframe\">\n",
       "  <thead>\n",
       "    <tr style=\"text-align: right;\">\n",
       "      <th></th>\n",
       "      <th>sepal length (cm)</th>\n",
       "      <th>sepal width (cm)</th>\n",
       "      <th>petal length (cm)</th>\n",
       "      <th>petal width (cm)</th>\n",
       "    </tr>\n",
       "  </thead>\n",
       "  <tbody>\n",
       "    <tr>\n",
       "      <th>0</th>\n",
       "      <td>5.1</td>\n",
       "      <td>3.5</td>\n",
       "      <td>1.4</td>\n",
       "      <td>0.2</td>\n",
       "    </tr>\n",
       "    <tr>\n",
       "      <th>1</th>\n",
       "      <td>4.9</td>\n",
       "      <td>3.0</td>\n",
       "      <td>1.4</td>\n",
       "      <td>0.2</td>\n",
       "    </tr>\n",
       "    <tr>\n",
       "      <th>2</th>\n",
       "      <td>4.7</td>\n",
       "      <td>3.2</td>\n",
       "      <td>1.3</td>\n",
       "      <td>0.2</td>\n",
       "    </tr>\n",
       "    <tr>\n",
       "      <th>3</th>\n",
       "      <td>4.6</td>\n",
       "      <td>3.1</td>\n",
       "      <td>1.5</td>\n",
       "      <td>0.2</td>\n",
       "    </tr>\n",
       "    <tr>\n",
       "      <th>4</th>\n",
       "      <td>5.0</td>\n",
       "      <td>3.6</td>\n",
       "      <td>1.4</td>\n",
       "      <td>0.2</td>\n",
       "    </tr>\n",
       "  </tbody>\n",
       "</table>\n",
       "</div>"
      ],
      "text/plain": [
       "   sepal length (cm)  sepal width (cm)  petal length (cm)  petal width (cm)\n",
       "0                5.1               3.5                1.4               0.2\n",
       "1                4.9               3.0                1.4               0.2\n",
       "2                4.7               3.2                1.3               0.2\n",
       "3                4.6               3.1                1.5               0.2\n",
       "4                5.0               3.6                1.4               0.2"
      ]
     },
     "execution_count": 32,
     "metadata": {},
     "output_type": "execute_result"
    }
   ],
   "source": [
    "df_iris_features.head()"
   ]
  },
  {
   "cell_type": "code",
   "execution_count": 46,
   "id": "04d84668-3b64-4349-92db-9ccfce09f3ea",
   "metadata": {},
   "outputs": [
    {
     "data": {
      "text/html": [
       "<div>\n",
       "<style scoped>\n",
       "    .dataframe tbody tr th:only-of-type {\n",
       "        vertical-align: middle;\n",
       "    }\n",
       "\n",
       "    .dataframe tbody tr th {\n",
       "        vertical-align: top;\n",
       "    }\n",
       "\n",
       "    .dataframe thead th {\n",
       "        text-align: right;\n",
       "    }\n",
       "</style>\n",
       "<table border=\"1\" class=\"dataframe\">\n",
       "  <thead>\n",
       "    <tr style=\"text-align: right;\">\n",
       "      <th></th>\n",
       "      <th>sepal length (cm)</th>\n",
       "      <th>sepal width (cm)</th>\n",
       "      <th>petal length (cm)</th>\n",
       "      <th>petal width (cm)</th>\n",
       "    </tr>\n",
       "  </thead>\n",
       "  <tbody>\n",
       "    <tr>\n",
       "      <th>71</th>\n",
       "      <td>6.1</td>\n",
       "      <td>2.8</td>\n",
       "      <td>4.0</td>\n",
       "      <td>1.3</td>\n",
       "    </tr>\n",
       "    <tr>\n",
       "      <th>34</th>\n",
       "      <td>4.9</td>\n",
       "      <td>3.1</td>\n",
       "      <td>1.5</td>\n",
       "      <td>0.2</td>\n",
       "    </tr>\n",
       "    <tr>\n",
       "      <th>95</th>\n",
       "      <td>5.7</td>\n",
       "      <td>3.0</td>\n",
       "      <td>4.2</td>\n",
       "      <td>1.2</td>\n",
       "    </tr>\n",
       "    <tr>\n",
       "      <th>75</th>\n",
       "      <td>6.6</td>\n",
       "      <td>3.0</td>\n",
       "      <td>4.4</td>\n",
       "      <td>1.4</td>\n",
       "    </tr>\n",
       "    <tr>\n",
       "      <th>48</th>\n",
       "      <td>5.3</td>\n",
       "      <td>3.7</td>\n",
       "      <td>1.5</td>\n",
       "      <td>0.2</td>\n",
       "    </tr>\n",
       "  </tbody>\n",
       "</table>\n",
       "</div>"
      ],
      "text/plain": [
       "    sepal length (cm)  sepal width (cm)  petal length (cm)  petal width (cm)\n",
       "71                6.1               2.8                4.0               1.3\n",
       "34                4.9               3.1                1.5               0.2\n",
       "95                5.7               3.0                4.2               1.2\n",
       "75                6.6               3.0                4.4               1.4\n",
       "48                5.3               3.7                1.5               0.2"
      ]
     },
     "execution_count": 46,
     "metadata": {},
     "output_type": "execute_result"
    }
   ],
   "source": [
    "df_iris_features_train.head()"
   ]
  },
  {
   "cell_type": "markdown",
   "id": "3632c484-bb3f-48f9-b560-ebfe6be80ec1",
   "metadata": {},
   "source": [
    "- The default behavior of the train_test_split() function is to shuffle the data, then determine the boundary observation where the training set should end and prepare two datasets by splitting at this boundary position.\n",
    "- The train_test_split() has a parameter called stratify used to achieve a stratified split, maintaining the proportions of categorical observations before and after the split."
   ]
  },
  {
   "cell_type": "code",
   "execution_count": 51,
   "id": "ee725285-2044-4776-8c6e-a97fa2d32737",
   "metadata": {},
   "outputs": [],
   "source": [
    "# iris dataset, with stratified sampling\n",
    "\n",
    "iris_split_strat = train_test_split(df_iris_features, df_iris_target,\n",
    "                                   test_size=0.25,\n",
    "                                   random_state=17,\n",
    "                                   stratify=df_iris_target)\n",
    "\n",
    "df_iris_features_train2 = iris_split_strat[0]\n",
    "df_iris_features_test2 = iris_split_strat[1]\n",
    "df_iris_target_train2 = iris_split_strat[2]\n",
    "df_iris_target_test2 = iris_split_strat[3]"
   ]
  },
  {
   "cell_type": "code",
   "execution_count": 57,
   "id": "8c795810-d995-426a-b29c-91617da40544",
   "metadata": {},
   "outputs": [
    {
     "data": {
      "text/html": [
       "<div>\n",
       "<style scoped>\n",
       "    .dataframe tbody tr th:only-of-type {\n",
       "        vertical-align: middle;\n",
       "    }\n",
       "\n",
       "    .dataframe tbody tr th {\n",
       "        vertical-align: top;\n",
       "    }\n",
       "\n",
       "    .dataframe thead th {\n",
       "        text-align: right;\n",
       "    }\n",
       "</style>\n",
       "<table border=\"1\" class=\"dataframe\">\n",
       "  <thead>\n",
       "    <tr style=\"text-align: right;\">\n",
       "      <th></th>\n",
       "      <th>sepal length (cm)</th>\n",
       "      <th>sepal width (cm)</th>\n",
       "      <th>petal length (cm)</th>\n",
       "      <th>petal width (cm)</th>\n",
       "    </tr>\n",
       "  </thead>\n",
       "  <tbody>\n",
       "    <tr>\n",
       "      <th>54</th>\n",
       "      <td>6.5</td>\n",
       "      <td>2.8</td>\n",
       "      <td>4.6</td>\n",
       "      <td>1.5</td>\n",
       "    </tr>\n",
       "    <tr>\n",
       "      <th>50</th>\n",
       "      <td>7.0</td>\n",
       "      <td>3.2</td>\n",
       "      <td>4.7</td>\n",
       "      <td>1.4</td>\n",
       "    </tr>\n",
       "    <tr>\n",
       "      <th>82</th>\n",
       "      <td>5.8</td>\n",
       "      <td>2.7</td>\n",
       "      <td>3.9</td>\n",
       "      <td>1.2</td>\n",
       "    </tr>\n",
       "    <tr>\n",
       "      <th>110</th>\n",
       "      <td>6.5</td>\n",
       "      <td>3.2</td>\n",
       "      <td>5.1</td>\n",
       "      <td>2.0</td>\n",
       "    </tr>\n",
       "    <tr>\n",
       "      <th>14</th>\n",
       "      <td>5.8</td>\n",
       "      <td>4.0</td>\n",
       "      <td>1.2</td>\n",
       "      <td>0.2</td>\n",
       "    </tr>\n",
       "  </tbody>\n",
       "</table>\n",
       "</div>"
      ],
      "text/plain": [
       "     sepal length (cm)  sepal width (cm)  petal length (cm)  petal width (cm)\n",
       "54                 6.5               2.8                4.6               1.5\n",
       "50                 7.0               3.2                4.7               1.4\n",
       "82                 5.8               2.7                3.9               1.2\n",
       "110                6.5               3.2                5.1               2.0\n",
       "14                 5.8               4.0                1.2               0.2"
      ]
     },
     "execution_count": 57,
     "metadata": {},
     "output_type": "execute_result"
    }
   ],
   "source": [
    "df_iris_features_train2.head(5)\n"
   ]
  },
  {
   "cell_type": "code",
   "execution_count": 59,
   "id": "2acb1706-1826-4a98-8128-8050c52460ad",
   "metadata": {},
   "outputs": [
    {
     "data": {
      "text/html": [
       "<div>\n",
       "<style scoped>\n",
       "    .dataframe tbody tr th:only-of-type {\n",
       "        vertical-align: middle;\n",
       "    }\n",
       "\n",
       "    .dataframe tbody tr th {\n",
       "        vertical-align: top;\n",
       "    }\n",
       "\n",
       "    .dataframe thead th {\n",
       "        text-align: right;\n",
       "    }\n",
       "</style>\n",
       "<table border=\"1\" class=\"dataframe\">\n",
       "  <thead>\n",
       "    <tr style=\"text-align: right;\">\n",
       "      <th></th>\n",
       "      <th>sepal length (cm)</th>\n",
       "      <th>sepal width (cm)</th>\n",
       "      <th>petal length (cm)</th>\n",
       "      <th>petal width (cm)</th>\n",
       "    </tr>\n",
       "  </thead>\n",
       "  <tbody>\n",
       "    <tr>\n",
       "      <th>76</th>\n",
       "      <td>6.8</td>\n",
       "      <td>2.8</td>\n",
       "      <td>4.8</td>\n",
       "      <td>1.4</td>\n",
       "    </tr>\n",
       "    <tr>\n",
       "      <th>77</th>\n",
       "      <td>6.7</td>\n",
       "      <td>3.0</td>\n",
       "      <td>5.0</td>\n",
       "      <td>1.7</td>\n",
       "    </tr>\n",
       "    <tr>\n",
       "      <th>121</th>\n",
       "      <td>5.6</td>\n",
       "      <td>2.8</td>\n",
       "      <td>4.9</td>\n",
       "      <td>2.0</td>\n",
       "    </tr>\n",
       "    <tr>\n",
       "      <th>147</th>\n",
       "      <td>6.5</td>\n",
       "      <td>3.0</td>\n",
       "      <td>5.2</td>\n",
       "      <td>2.0</td>\n",
       "    </tr>\n",
       "    <tr>\n",
       "      <th>85</th>\n",
       "      <td>6.0</td>\n",
       "      <td>3.4</td>\n",
       "      <td>4.5</td>\n",
       "      <td>1.6</td>\n",
       "    </tr>\n",
       "  </tbody>\n",
       "</table>\n",
       "</div>"
      ],
      "text/plain": [
       "     sepal length (cm)  sepal width (cm)  petal length (cm)  petal width (cm)\n",
       "76                 6.8               2.8                4.8               1.4\n",
       "77                 6.7               3.0                5.0               1.7\n",
       "121                5.6               2.8                4.9               2.0\n",
       "147                6.5               3.0                5.2               2.0\n",
       "85                 6.0               3.4                4.5               1.6"
      ]
     },
     "execution_count": 59,
     "metadata": {},
     "output_type": "execute_result"
    }
   ],
   "source": [
    "df_iris_features_test2.head(5)"
   ]
  },
  {
   "cell_type": "markdown",
   "id": "6e927800-da3a-4edc-b228-37907f0f6e85",
   "metadata": {},
   "source": [
    "- Using Pandas plotting functions to create a bar chart  of the distribution of categories in the original dataset, the unstratified training set, and the stratisfied training set."
   ]
  },
  {
   "cell_type": "code",
   "execution_count": 71,
   "id": "cf348008-2e48-4d43-9b4f-b8adc61f1fa8",
   "metadata": {},
   "outputs": [
    {
     "data": {
      "text/plain": [
       "<Axes: title={'center': 'df_iris_target_train2'}, xlabel='class'>"
      ]
     },
     "execution_count": 71,
     "metadata": {},
     "output_type": "execute_result"
    },
    {
     "data": {
      "image/png": "[encoded data removed]",
      "text/plain": [
       "<Figure size 1500x500 with 3 Axes>"
      ]
     },
     "metadata": {},
     "output_type": "display_data"
    }
   ],
   "source": [
    "# visualize the distribution of target values in the \n",
    "# original dataset and the training sets created by train_test_split\n",
    "# function, with and without stratisfication.\n",
    "# use Pandas dataframe functions to plot a bar chart of the 'Embarked' attribute\n",
    "\n",
    "\n",
    "import matplotlib.pyplot as plt\n",
    "fig, axes = plt.subplots(1, 3, figsize=(15, 5))\n",
    "axes[0].set_title('df_iris_target')\n",
    "df_iris_target['class'].value_counts(dropna=False).plot.bar(grid=True,\n",
    "                                                           ax=axes[0])\n",
    "axes[1].set_title('df_iris_target_train')\n",
    "df_iris_target_train['class'].value_counts(dropna=False).plot.bar(grid=True,\n",
    "                                                                ax=axes[1])\n",
    "axes[2].set_title('df_iris_target_train2')\n",
    "df_iris_target_train2['class'].value_counts(dropna=False).plot.bar(grid=True,\n",
    "                                                                  ax=axes[2])\n"
   ]
  },
  {
   "cell_type": "markdown",
   "id": "6f4ced4d-a91b-4f82-9faf-0c51c60f476f",
   "metadata": {},
   "source": [
    "- The distribution of target values is identical between the three categories of iris flowers dataset.\n",
    "- This is seen in the first histogram where with each category having 50 values.\n",
    "\n",
    "### Illustrating the better use of stratified sampling\n",
    "\n",
    "- We load the toy version of the UCI ML wines dataset.\n",
    "- we plot the difference between stratified and unstratified splits.\n",
    "- The UCI ML wines dataset is a popular dataset used by beginners for multiclass classification problems.\n",
    "- It contains a number of numeric features that contain the results of a chemical analysis on wines grown in four different regions of Italy and a categorical target that indicates the overal quality of the wine.\n",
    "\n"
   ]
  },
  {
   "cell_type": "code",
   "execution_count": 77,
   "id": "d12e96db-f4bd-45d6-b994-9e83a9db161d",
   "metadata": {},
   "outputs": [
    {
     "data": {
      "text/plain": [
       "<Axes: title={'center': 'df_wine_target_train2'}, xlabel='class'>"
      ]
     },
     "execution_count": 77,
     "metadata": {},
     "output_type": "execute_result"
    },
    {
     "data": {
      "image/png": "[encoded data removed]",
      "text/plain": [
       "<Figure size 1500x500 with 3 Axes>"
      ]
     },
     "metadata": {},
     "output_type": "display_data"
    }
   ],
   "source": [
    "#load the UCI ML Wines dataset\n",
    "\n",
    "from sklearn.datasets import load_wine\n",
    "wine_dataset = load_wine()\n",
    "\n",
    "df_wine_features = pd.DataFrame(data=wine_dataset.data,\n",
    "                               columns=wine_dataset.feature_names)\n",
    "df_wine_target = pd.DataFrame(data=wine_dataset.target,\n",
    "                             columns=['class'])\n",
    "\n",
    "\n",
    "# wine dataset\n",
    "\n",
    "wines_split = train_test_split(df_wine_features, df_wine_target, \n",
    "                              test_size=0.25,\n",
    "                              random_state=17)\n",
    "\n",
    "df_wine_features_train = wines_split[0]\n",
    "df_wine_features_test = wines_split[1]\n",
    "df_wine_target_train = wines_split[2]\n",
    "df_wine_target_test = wines_split[3]\n",
    "\n",
    "# wines dataset with stratified sampling\n",
    "wines_split_strat = train_test_split(df_wine_features, df_wine_target,\n",
    "                                    test_size=0.25,\n",
    "                                    random_state=17,\n",
    "                                    stratify=df_wine_target)\n",
    "\n",
    "df_wine_features_train2 = wines_split_strat[0]\n",
    "df_wine_features_test2 = wines_split_strat[1]\n",
    "df_wine_target_train2 = wines_split_strat[2]\n",
    "df_wine_target_test2 = wines_split_strat[3]\n",
    "\n",
    "\n",
    "# visualize the distribution of target values in the\n",
    "# original wines dataset and the training sets created by the train_test_split() function\n",
    "# with or without stratification\n",
    "# use Pandas DataFrame functions to plot a bar chart of an 'Embarked' attribute\n",
    "\n",
    "\n",
    "fig, axes = plt.subplots(1, 3, figsize=(15, 5))\n",
    "axes[0].set_title('df_wine_target')\n",
    "df_wine_target['class'].value_counts(dropna=False).plot.bar(grid=True,\n",
    "                                                           ax=axes[0])\n",
    "axes[1].set_title('df_wine_target_train')\n",
    "df_wine_target_train['class'].value_counts(dropna=False).plot.bar(grid=True,\n",
    "                                                                 ax=axes[1])\n",
    "axes[2].set_title('df_wine_target_train2')\n",
    "df_wine_target_train['class'].value_counts(dropna=False).plot.bar(grid=True,\n",
    "                                                                 ax=axes[2])"
   ]
  },
  {
   "cell_type": "markdown",
   "id": "2e315bb9-9a2d-485f-a542-e041b3c48f25",
   "metadata": {},
   "source": [
    "## K-Fold Cross Validation\n",
    "\n",
    "- The main drawback with the idea of splitting the training dataset into a training and validation set is that it is possible for the samples in the training set to exhibit characteristics that may not be found in any of the samples in the test set.\n",
    "- While shuffling the data can help mitigate this, the extent of the mitigation depends on various factors such as the size of the original dataset, and the proportion of samples that exhibit a particular characteristics.\n",
    "- The solution to avoidingto create a model that is susceptible to characteristics only found in the training set is embodied in a technique called k-fold cross validation.\n",
    "\n",
    "### How k-fold cross validation works at a high level\n",
    "- Choose a value k\n",
    "- Shuffle the data\n",
    "- Split the data into k equal subsets\n",
    "- For each value of k:\n",
    "      - Train a model that uses the kth subset as the test set and the samples of the k-1 subsets as the training set.\n",
    "      - Record the performance of the model when making predictions on the kth subset.\n",
    "- Compute the mean performance of the individual models to work out the overall performance.\n",
    "\n",
    "- K-fold cross validation help minimize the possibility of the model picking up on unexpected bias in the training set.\n",
    "- The idea behind k-fold cross validation is to shuffle the entire dataset randomly and divide it into a number of smaller sets(known as folds) and train multiple models(or the same model multiple times).\n",
    "- During each training and evaluation cycle, on of the folds will be held out as the test set and the remaining will make the training set.\n",
    "- if k=1, k-fold approach becomes similar to the train_test_split method.\n",
    "- if k=n, the number of samples in the training set, then in effect the test set contains only one sample, and each sample will get to be part of the test set during one of the iterations.\n",
    "- This technique is also known as leave_one_out cross validation.\n",
    "- Scikit-learn provides a class called KFold as part of the model-building module used to create the folds and enumerate through the folds.\n",
    "- The constructor of the KFold class takes three parameters:\n",
    "    - n_splits: an integer that represents the number of folds required.\n",
    "    - shuffle: an optional boolean value that indicates whether the data should be shuffled before the folds are created.\n",
    "    - random_state: an optional integer used to seed the random-number generator used to shuffle the data.\n",
    "- The K-Fold class provides two methods:\n",
    "    - get_n_splits() : returns the number of folds\n",
    "    - split(): gets the indeces of the training and test set members of each fold."
   ]
  },
  {
   "cell_type": "code",
   "execution_count": 82,
   "id": "d95c5cf2-61e1-4bf7-8437-447482f21292",
   "metadata": {},
   "outputs": [
    {
     "name": "stdout",
     "output_type": "stream",
     "text": [
      "Fold number: 1\n",
      "Training indices: [  0   2   3   4   6   7   8   9  10  11  12  13  14  15  16  17  18  19\n",
      "  20  21  23  24  25  26  27  28  29  31  32  33  34  35  36  38  39  40\n",
      "  41  42  43  44  45  46  47  48  49  50  51  52  53  54  55  56  57  58\n",
      "  60  61  62  63  64  65  66  67  68  69  70  71  72  73  74  75  76  77\n",
      "  80  81  82  83  84  85  86  87  88  89  90  91  92  93  94  96  97  99\n",
      " 100 101 102 103 104 105 106 107 108 109 110 111 112 113 115 117 118 120\n",
      " 121 122 123 124 125 126 127 128 129 130 131 132 133 134 135 136 138 139\n",
      " 140 141 143 144 145 146 147 148 149]\n",
      "Testing indices: [  1   5  22  30  37  59  78  79  95  98 114 116 119 137 142]\n"
     ]
    },
    {
     "ename": "NameError",
     "evalue": "name 'train_index' is not defined",
     "output_type": "error",
     "traceback": [
      "\u001b[1;31m---------------------------------------------------------------------------\u001b[0m",
      "\u001b[1;31mNameError\u001b[0m                                 Traceback (most recent call last)",
      "Cell \u001b[1;32mIn[82], line 12\u001b[0m\n\u001b[0;32m     10\u001b[0m \u001b[38;5;28mprint\u001b[39m(\u001b[38;5;124m\"\u001b[39m\u001b[38;5;124mTesting indices:\u001b[39m\u001b[38;5;124m\"\u001b[39m, test_indices)\n\u001b[0;32m     11\u001b[0m fold_number \u001b[38;5;241m=\u001b[39m fold_number \u001b[38;5;241m+\u001b[39m \u001b[38;5;241m1\u001b[39m\n\u001b[1;32m---> 12\u001b[0m df_iris_features_train \u001b[38;5;241m=\u001b[39m df_iris_features\u001b[38;5;241m.\u001b[39miloc[train_index]\n\u001b[0;32m     13\u001b[0m df_iris_target_train \u001b[38;5;241m=\u001b[39m d_iris_target\u001b[38;5;241m.\u001b[39miloc[train_index]\n\u001b[0;32m     14\u001b[0m df_iris_features_test \u001b[38;5;241m=\u001b[39m df_iris_features\u001b[38;5;241m.\u001b[39miloc[test_index]\n",
      "\u001b[1;31mNameError\u001b[0m: name 'train_index' is not defined"
     ]
    }
   ],
   "source": [
    "# perform 10-fold split on the iris dataset\n",
    "\n",
    "from sklearn.model_selection import KFold\n",
    "kf = KFold(n_splits=10, shuffle=True)\n",
    "fold_number=1\n",
    "for train_indices, test_indices in kf.split(df_iris_features):\n",
    "\n",
    "    print(\"Fold number:\", fold_number)\n",
    "    print(\"Training indices:\", train_indices)\n",
    "    print(\"Testing indices:\", test_indices)\n",
    "    fold_number = fold_number + 1\n",
    "    df_iris_features_train = df_iris_features.iloc[train_index]\n",
    "    df_iris_target_train = d_iris_target.iloc[train_index]\n",
    "    df_iris_features_test = df_iris_features.iloc[test_index]\n",
    "    df_iris_target_test = df_iris_target.iloc[test_index]"
   ]
  },
  {
   "cell_type": "code",
   "execution_count": null,
   "id": "1f684d75-3179-4e42-9f8d-d818b37d1a3b",
   "metadata": {},
   "outputs": [],
   "source": []
  },
  {
   "cell_type": "code",
   "execution_count": null,
   "id": "9c3196d1-b608-4c13-996e-9d4d263ac369",
   "metadata": {},
   "outputs": [],
   "source": []
  }
 ],
 "metadata": {
  "kernelspec": {
   "display_name": "Python [conda env:base] *",
   "language": "python",
   "name": "conda-base-py"
  },
  "language_info": {
   "codemirror_mode": {
    "name": "ipython",
    "version": 3
   },
   "file_extension": ".py",
   "mimetype": "text/x-python",
   "name": "python",
   "nbconvert_exporter": "python",
   "pygments_lexer": "ipython3",
   "version": "3.12.7"
  }
 },
 "nbformat": 4,
 "nbformat_minor": 5
}
